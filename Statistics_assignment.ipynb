{
 "cells": [
  {
   "cell_type": "markdown",
   "id": "28a9541a-17b8-4ce7-8238-04e963b847d6",
   "metadata": {},
   "source": [
    "# Statistics "
   ]
  },
  {
   "cell_type": "markdown",
   "id": "9bdbc4ef-df4b-4fea-8863-31eef1c789d3",
   "metadata": {},
   "source": [
    "# Ans1-"
   ]
  },
  {
   "cell_type": "markdown",
   "id": "364d34d2-4289-40ff-9f45-05338192e7f9",
   "metadata": {},
   "source": [
    "\n",
    "The probability density function (PDF) is a function that describes the likelihood of different outcomes in a continuous probability distribution. In simpler terms, it helps us understand how probable different values are in a range.\n",
    "\n",
    "Example: Consider a standard six-sided die. If we roll the die, each number (1, 2, 3, 4, 5, 6) has an equal probability of 1/6. The PDF for this scenario assigns equal probabilities to each outcome, reflecting a uniform distribution."
   ]
  },
  {
   "cell_type": "markdown",
   "id": "cff0cd7d-3040-43b6-83b6-d15c94c9d3e9",
   "metadata": {},
   "source": [
    "# Ans2- "
   ]
  },
  {
   "cell_type": "markdown",
   "id": "e7937f08-e09d-480e-8e1f-f764672a3a55",
   "metadata": {},
   "source": [
    "here are several types of probability distributions, and they can be broadly categorized into two main classes: discrete and continuous"
   ]
  },
  {
   "cell_type": "markdown",
   "id": "89ebe8a9-694d-4da5-9936-1ff845b1b65e",
   "metadata": {},
   "source": [
    "Discrete Probability Distribution:\n",
    "\n",
    "Examples:"
   ]
  },
  {
   "cell_type": "markdown",
   "id": "2ba2fe34-f924-48db-96f7-f3eb68e3558f",
   "metadata": {},
   "source": [
    "Bernoulli Distribution: Models a single trial with two outcomes, like success or failure."
   ]
  },
  {
   "cell_type": "markdown",
   "id": "75a64538-191e-4b8e-b908-7cbb8e36d1c7",
   "metadata": {},
   "source": [
    "Binomial Distribution: Describes the number of successes in a fixed number of independent Bernoulli trials."
   ]
  },
  {
   "cell_type": "markdown",
   "id": "416c8572-38f1-4891-b03f-f2a78933c805",
   "metadata": {},
   "source": [
    "Poisson Distribution: Models the number of events occurring in a fixed interval of time or space."
   ]
  },
  {
   "cell_type": "markdown",
   "id": "aef3afd3-dc6e-4b04-a096-17efbadce24b",
   "metadata": {},
   "source": [
    "Continuous Probability Distribution:"
   ]
  },
  {
   "cell_type": "markdown",
   "id": "1e07b709-221d-4da0-b979-93c3d1706376",
   "metadata": {},
   "source": [
    "Examples:"
   ]
  },
  {
   "cell_type": "markdown",
   "id": "1a7c8c5c-c57a-4e5b-b467-eb1f303c10bd",
   "metadata": {},
   "source": [
    "Normal Distribution (Gaussian): Symmetric bell-shaped curve commonly found in nature."
   ]
  },
  {
   "cell_type": "markdown",
   "id": "67861d14-3981-47f2-a6f8-4c0950ba85d8",
   "metadata": {},
   "source": [
    "Exponential Distribution: Models the time between events in a Poisson process"
   ]
  },
  {
   "cell_type": "markdown",
   "id": "f72b5597-c341-44c5-bb40-0f77e95654fd",
   "metadata": {},
   "source": [
    ".\n",
    "Uniform Distribution: All values in a given range are equally likely."
   ]
  },
  {
   "cell_type": "markdown",
   "id": "1b65d31c-1ee5-40af-a23b-97b8c906f413",
   "metadata": {},
   "source": [
    "# Ans4- "
   ]
  },
  {
   "cell_type": "raw",
   "id": "c2b896fb-0845-4b38-b107-51101c633810",
   "metadata": {},
   "source": [
    "\n",
    "Properties of Binomial Distribution:\n",
    "\n",
    "Fixed Number of Trials (n): The number of trials or experiments is fixed in advance.\n",
    "Two Possible Outcomes (Success/Failure): Each trial results in one of two outcomes, typically labeled as success (S) or failure (F).\n",
    "Independent Trials: The outcome of one trial does not affect the outcome of another.\n",
    "Constant Probability of Success (p): The probability of success remains constant for each trial.\n",
    "Discrete Outcome: The number of successes (S) in the fixed number of trials is a discrete variable."
   ]
  },
  {
   "cell_type": "raw",
   "id": "c118c3a5-84f5-465b-a07d-c0483355d5ec",
   "metadata": {},
   "source": [
    "Examples of Events Modeled by Binomial Distribution:\n",
    "\n",
    "Coin Flips:\n",
    "\n",
    "Experiment: Tossing a fair coin multiple times.\n",
    "Outcomes: Success (getting heads) or failure (getting tails).\n",
    "Parameters: n (number of coin flips), p (probability of getting heads in a single flip).\n",
    "Drug Testing:\n",
    "\n",
    "Experiment: Administering a new drug to a group of patients.\n",
    "Outcomes: Success (patients respond positively) or failure (patients do not respond).\n",
    "Parameters: n (number of patients), p (probability of a patient responding to the drug)."
   ]
  },
  {
   "cell_type": "markdown",
   "id": "6497b64b-717c-4ab7-b2fd-6b4e5708fb00",
   "metadata": {},
   "source": [
    " the binomial distribution helps model the number of successful outcomes (heads, positive responses) in a series of independent trials (coin flips, drug administrations)."
   ]
  },
  {
   "cell_type": "markdown",
   "id": "52b9272b-839e-4c0c-b438-58f12363d4e8",
   "metadata": {},
   "source": [
    "# Ans5-"
   ]
  },
  {
   "cell_type": "code",
   "execution_count": 1,
   "id": "85483c8a-ec05-49a6-8974-2689ac63edcf",
   "metadata": {},
   "outputs": [
    {
     "data": {
      "image/png": "[encoded data removed]",
      "text/plain": [
       "<Figure size 640x480 with 1 Axes>"
      ]
     },
     "metadata": {},
     "output_type": "display_data"
    }
   ],
   "source": [
    "import numpy as np\n",
    "import matplotlib.pyplot as plt\n",
    "\n",
    "# Set the parameters\n",
    "n_trials = 1000  # Size of the sample\n",
    "p_success = 0.4  # Probability of success\n",
    "\n",
    "# Generate random sample from binomial distribution\n",
    "binomial_sample = np.random.binomial(1, p_success, n_trials)\n",
    "\n",
    "# Plot histogram\n",
    "plt.hist(binomial_sample, bins=[-0.5, 0.5, 1.5], edgecolor='black')\n",
    "plt.title('Binomial Distribution - Random Sample')\n",
    "plt.xlabel('Outcome')\n",
    "plt.ylabel('Frequency')\n",
    "plt.xticks([0, 1], ['Failure', 'Success'])\n",
    "plt.show()\n"
   ]
  },
  {
   "cell_type": "markdown",
   "id": "2cb7defa-941e-49a6-ab30-f4a01fdec00c",
   "metadata": {},
   "source": [
    "# Ans3-"
   ]
  },
  {
   "cell_type": "markdown",
   "id": "76553c6f-00ba-4bc8-92ce-c226067f3603",
   "metadata": {},
   "source": [
    "normal distribution  is a symmetric bell-shaped probability distribution that describes how values tend to  mean. In a normal distribution"
   ]
  },
  {
   "cell_type": "code",
   "execution_count": 2,
   "id": "1ebe07a8-fb17-47ee-a45c-71b11c2af11f",
   "metadata": {},
   "outputs": [
    {
     "name": "stdout",
     "output_type": "stream",
     "text": [
      "The PDF at x = 1.5 is: 0.12951759566589174\n"
     ]
    }
   ],
   "source": [
    "import numpy as np\n",
    "\n",
    "def normal_pdf(x, mean, std_dev):\n",
    "    \"\"\"\n",
    "    Calculate the probability density function (PDF) of a normal distribution.\n",
    "\n",
    "    Parameters:\n",
    "    - x: The point at which to calculate the PDF.\n",
    "    - mean: The mean of the normal distribution.\n",
    "    - std_dev: The standard deviation of the normal distribution.\n",
    "\n",
    "    Returns:\n",
    "    - pdf: The probability density function value at the given point.\n",
    "    \"\"\"\n",
    "    coefficient = 1 / (np.sqrt(2 * np.pi) * std_dev)\n",
    "    exponent_term = -((x - mean) ** 2) / (2 * std_dev ** 2)\n",
    "    pdf = coefficient * np.exp(exponent_term)\n",
    "    return pdf\n",
    "\n",
    "# Example usage:\n",
    "mean = 0\n",
    "std_dev = 1\n",
    "point = 1.5\n",
    "pdf_value = normal_pdf(point, mean, std_dev)\n",
    "print(f'The PDF at x = {point} is: {pdf_value}')\n"
   ]
  },
  {
   "cell_type": "markdown",
   "id": "4370ee6b-ab84-477a-8875-c67c238116e5",
   "metadata": {},
   "source": [
    "# Ans6- "
   ]
  },
  {
   "cell_type": "markdown",
   "id": "89ddc94a-6827-4b83-9656-91bc370d65ee",
   "metadata": {},
   "source": [
    "In probability theory, the Poisson distribution is a discrete probability distribution that expresses the probability of a given number of events occurring in a fixed interval of time or space."
   ]
  },
  {
   "cell_type": "code",
   "execution_count": 3,
   "id": "8668a4f7-0b7e-430d-98aa-635716e5449f",
   "metadata": {},
   "outputs": [
    {
     "name": "stdout",
     "output_type": "stream",
     "text": [
      "The CDF at k = 2 is: 0.42319008112684353\n"
     ]
    }
   ],
   "source": [
    "import math\n",
    "\n",
    "def poisson_cdf(k, mean):\n",
    "    \"\"\"\n",
    "    Calculate the cumulative distribution function (CDF) of a Poisson distribution.\n",
    "\n",
    "    Parameters:\n",
    "    - k: The point at which to calculate the CDF.\n",
    "    - mean: The mean of the Poisson distribution.\n",
    "\n",
    "    Returns:\n",
    "    - cdf: The cumulative distribution function value at the given point.\n",
    "    \"\"\"\n",
    "    cdf = 0\n",
    "    for i in range(k + 1):\n",
    "        cdf += (math.exp(-mean) * mean**i) / math.factorial(i)\n",
    "    return cdf\n",
    "\n",
    "# Example usage:\n",
    "mean_poisson = 3\n",
    "point_poisson = 2\n",
    "cdf_value = poisson_cdf(point_poisson, mean_poisson)\n",
    "print(f'The CDF at k = {point_poisson} is: {cdf_value}')\n"
   ]
  },
  {
   "cell_type": "markdown",
   "id": "ddb04528-fc5d-451e-a8ab-7edcaa3f116a",
   "metadata": {},
   "source": [
    "# Ans7-"
   ]
  },
  {
   "cell_type": "raw",
   "id": "72672f35-19b1-4265-a852-6c2cb97e79f7",
   "metadata": {},
   "source": [
    "Binomial Distribution: Models the number of successes in a fixed number of independent Bernoulli trials (experiments with two possible outcomes: success or failure).\n",
    "Poisson Distribution: Models the number of events occurring in a fixed interval of time or space, where events happen randomly and independently.\n",
    "2. Number of Trials:\n",
    "\n",
    "Binomial Distribution: Requires a fixed number of trials (n) to be specified in advance.\n",
    "Poisson Distribution: Does not require a fixed number of trials; it deals with events that occur continuously over time or space.\n",
    "3. Type of Outcomes:\n",
    "\n",
    "Binomial Distribution: Deals with discrete outcomes (integer values), as it counts the number of successes in a fixed number of trials.\n",
    "Poisson Distribution: Also deals with discrete outcomes, representing the count of events, but in a continuous setting.\n",
    "4. Parameterization:\n",
    "\n",
    "Binomial Distribution: Requires two parameters – the number of trials (n) and the probability of success on each trial (p).\n",
    "Poisson Distribution: Requires only one parameter – the average rate of events (λ) occurring in the fixed interval.\n",
    "5. Conditions:\n",
    "\n",
    "Binomial Distribution: Appropriate when events are independent, have two possible outcomes, and occur a fixed number of times.\n",
    "Poisson Distribution: Appropriate when events are random, independent, and occur with a known average rate in a fixed interval."
   ]
  },
  {
   "cell_type": "markdown",
   "id": "c12b7a36-9b8b-45c0-b6e1-752f22c9bf62",
   "metadata": {},
   "source": [
    "# Ans8-"
   ]
  },
  {
   "cell_type": "code",
   "execution_count": 4,
   "id": "3de5d0e8-68cc-44c6-beda-24796f5838a4",
   "metadata": {},
   "outputs": [
    {
     "name": "stdout",
     "output_type": "stream",
     "text": [
      "Sample Mean: 5.004\n",
      "Sample Variance: 5.115984\n"
     ]
    }
   ],
   "source": [
    "import numpy as np\n",
    "\n",
    "# Set the parameters\n",
    "mean_poisson = 5\n",
    "sample_size = 1000\n",
    "\n",
    "# Generate random sample from Poisson distribution\n",
    "poisson_sample = np.random.poisson(mean_poisson, sample_size)\n",
    "\n",
    "# Calculate sample mean and variance\n",
    "sample_mean = np.mean(poisson_sample)\n",
    "sample_variance = np.var(poisson_sample)\n",
    "\n",
    "print(f\"Sample Mean: {sample_mean}\")\n",
    "print(f\"Sample Variance: {sample_variance}\")\n"
   ]
  },
  {
   "cell_type": "markdown",
   "id": "4c0e66ce-21cf-45cb-a628-3a7242b1000e",
   "metadata": {},
   "source": [
    "# Ans9-"
   ]
  },
  {
   "cell_type": "markdown",
   "id": "bf41a86c-74f8-40cc-a7a4-889c2effa8af",
   "metadata": {},
   "source": [
    " Binomial distribution, the variance depends on both the number of trials and the probability of success, while in the Poisson distribution, the mean and variance are both equal and depend only on the average rate of events.\n",
    "\n",
    "\n",
    "\n",
    "\n"
   ]
  },
  {
   "cell_type": "markdown",
   "id": "89b72fe3-45d2-4753-8a37-1f0eec780ac7",
   "metadata": {},
   "source": [
    "# Ans10-"
   ]
  },
  {
   "cell_type": "code",
   "execution_count": null,
   "id": "35fd7010-7550-428e-bf67-138fa6957f01",
   "metadata": {},
   "outputs": [],
   "source": []
  }
 ],
 "metadata": {
  "kernelspec": {
   "display_name": "Python 3 (ipykernel)",
   "language": "python",
   "name": "python3"
  },
  "language_info": {
   "codemirror_mode": {
    "name": "ipython",
    "version": 3
   },
   "file_extension": ".py",
   "mimetype": "text/x-python",
   "name": "python",
   "nbconvert_exporter": "python",
   "pygments_lexer": "ipython3",
   "version": "3.10.8"
  }
 },
 "nbformat": 4,
 "nbformat_minor": 5
}
